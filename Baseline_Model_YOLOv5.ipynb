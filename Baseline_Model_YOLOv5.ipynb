{
  "cells": [
    {
      "cell_type": "code",
      "execution_count": null,
      "metadata": {
        "id": "FK77eXAFeOtB"
      },
      "outputs": [],
      "source": [
        "from google.colab import drive\n",
        "drive.mount('/content/drive', force_remount=True)\n",
        "drive_path = \"/content/drive/MyDrive\"\n",
        "img_path = drive_path + \"/atml_bucket\"\n"
      ]
    },
    {
      "cell_type": "code",
      "execution_count": null,
      "metadata": {
        "id": "PwphWA3me4xN"
      },
      "outputs": [],
      "source": [
        "from PIL import Image\n",
        "import pandas as pd\n",
        "from sklearn.model_selection import train_test_split\n",
        "import numpy as np\n",
        "import ast\n",
        "import os\n",
        "import shutil\n",
        "import sys"
      ]
    },
    {
      "cell_type": "code",
      "execution_count": null,
      "metadata": {
        "id": "yC5sVJ3Qezp6"
      },
      "outputs": [],
      "source": [
        "df = pd.read_csv(drive_path+\"/ATML_Dataset_Largest.csv\")\n",
        "df['bbox'] = df.bbox.apply(lambda x: ast.literal_eval(str(x)))\n",
        "df['Class'] = df.Class.apply(lambda x: ast.literal_eval(str(x)))\n",
        "df_train, df_val = train_test_split(df, test_size=0.33, random_state=42, shuffle=True)"
      ]
    },
    {
      "cell_type": "code",
      "execution_count": null,
      "metadata": {
        "id": "BZ12cjUufTsK"
      },
      "outputs": [],
      "source": [
        "print(df_train)"
      ]
    },
    {
      "cell_type": "code",
      "execution_count": null,
      "metadata": {
        "id": "giqNtQ1ygCLe"
      },
      "outputs": [],
      "source": [
        "labels_mapping = {\n",
        "    'airport': 0,\n",
        "    'power_plant': 1,\n",
        "    'stadium': 2\n",
        "}"
      ]
    },
    {
      "cell_type": "code",
      "execution_count": null,
      "metadata": {
        "id": "V78Ily7AgH5j"
      },
      "outputs": [],
      "source": [
        "def segregate_data(df, new_img_path, label_path):\n",
        "  for i in range(len(df[\"fileName\"])):\n",
        "    try:\n",
        "      # if(os.path.exists(new_img_path+df.iloc[i][\"fileName\"]+'.tif') and os.path.exists(label_path+df.iloc[i][\"fileName\"]+'.txt')):\n",
        "      #   continue\n",
        "      yolo_list = []\n",
        "      im = Image.open(img_path + \"/\"+ df.iloc[i][\"fileName\"].lower() + '.tif')\n",
        "      im_array = np.array(im).shape\n",
        "      img_width = im_array[0]\n",
        "      img_height = im_array[1]\n",
        "      for j in range(len(df.iloc[i][\"bbox\"])):\n",
        "        boundary = df.iloc[i][\"bbox\"][j]\n",
        "        x_min = boundary[0]\n",
        "        y_min = boundary[1]\n",
        "        x_max = boundary[2]\n",
        "        y_max = boundary[3]\n",
        "        x_center_norm = abs(x_max + x_min) / (2*img_width)    \n",
        "        y_center_norm = abs(y_max + y_min) / (2*img_height)\n",
        "        width_norm = abs(x_max - x_min) / img_width\n",
        "        height_norm = abs(y_max - y_min) / img_height\n",
        "        yolo_list.append([labels_mapping[df.iloc[i][\"Class\"][j]], x_center_norm, y_center_norm, width_norm, height_norm])\n",
        "\n",
        "  \n",
        "      txt_filename = os.path.join(label_path, str(df.iloc[i][\"fileName\"]) + \".txt\")\n",
        "      np.savetxt(txt_filename, yolo_list, fmt=[\"%d\", \"%f\", \"%f\", \"%f\", \"%f\"])\n",
        "      #shutil.copyfile(os.path.join(img_path,df.iloc[i][\"fileName\"].lower()+'.tif'), os.path.join(new_img_path,df.iloc[i][\"fileName\"]+'.tif'))\n",
        "    except FileNotFoundError as e:\n",
        "      print(\"File \"+df.iloc[i][\"fileName\"]+\" not found!\")\n",
        "      continue"
      ]
    },
    {
      "cell_type": "code",
      "execution_count": null,
      "metadata": {
        "id": "X1TybHHpkprI"
      },
      "outputs": [],
      "source": [
        "segregate_data(df_train,drive_path+\"/atml_project_data/train/images\",drive_path+\"/atml_project_data/train/labels\")"
      ]
    },
    {
      "cell_type": "code",
      "execution_count": null,
      "metadata": {
        "id": "2gwFQRw608Kh"
      },
      "outputs": [],
      "source": [
        "segregate_data(df_val,drive_path+\"/atml_project_data/test/images\",drive_path+\"/atml_project_data/test/labels\")\n",
        "print(df_train.shape)\n",
        "print(df_val.shape)\n",
        "print(len(os.listdir(\"/content/drive/MyDrive/atml_project_data/train/images\")))\n",
        "print(len(os.listdir(\"/content/drive/MyDrive/atml_project_data/train/labels\")))\n",
        "print(len(os.listdir(\"/content/drive/MyDrive/atml_project_data/test/images\")))\n",
        "print(len(os.listdir(\"/content/drive/MyDrive/atml_project_data/test/labels\")))"
      ]
    },
    {
      "cell_type": "code",
      "execution_count": null,
      "metadata": {
        "id": "LQ78ykTJlQk-"
      },
      "outputs": [],
      "source": [
        "!git clone  'https://github.com/ultralytics/yolov5.git'\n",
        "!pip install -qr '/content/yolov5/requirements.txt'  # install dependencies\n",
        "## Create a yaml file and move it into the yolov5 folder ##\n",
        "model_path = drive_path+'/atml_project_data/model'\n",
        "shutil.copyfile(model_path+'/bcc.yaml', '/content/yolov5/bcc.yaml')"
      ]
    },
    {
      "cell_type": "code",
      "execution_count": null,
      "metadata": {
        "id": "rrOzKuvzyQbs"
      },
      "outputs": [],
      "source": [
        "%load_ext tensorboard\n",
        "%tensorboard --logdir /content/yolov5/runs/\n",
        "!python yolov5/train.py --img 640 --batch 8 --epochs 100 \\\n",
        "--data /content/yolov5/bcc.yaml --cfg /content/yolov5/models/yolov5s.yaml --name BCCM --cache --freeze 10"
      ]
    },
    {
      "cell_type": "code",
      "execution_count": null,
      "metadata": {
        "id": "o1t-QEbcyb_o"
      },
      "outputs": [],
      "source": [
        "## TO PREDICT IMAGES IN A FOLDER ##\n",
        "best_weight = '' # you have to input the best weight part here.\n",
        "!python yolov5/detect.py --source /content/yolov5/runs/BCCM\n",
        "--weights /content/yolov5/runs/BCCM/best.pt\n",
        "--output /content/inference/output"
      ]
    }
  ],
  "metadata": {
    "accelerator": "TPU",
    "colab": {
      "provenance": []
    },
    "gpuClass": "standard",
    "kernelspec": {
      "display_name": "Python 3",
      "name": "python3"
    },
    "language_info": {
      "name": "python"
    }
  },
  "nbformat": 4,
  "nbformat_minor": 0
}
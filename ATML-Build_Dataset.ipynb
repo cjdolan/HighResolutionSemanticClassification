{
 "cells": [
  {
   "cell_type": "code",
   "execution_count": 28,
   "id": "9200bdde",
   "metadata": {},
   "outputs": [
    {
     "name": "stdout",
     "output_type": "stream",
     "text": [
      "Collecting xmltodict\n",
      "  Downloading xmltodict-0.13.0-py2.py3-none-any.whl (10.0 kB)\n",
      "Installing collected packages: xmltodict\n",
      "Successfully installed xmltodict-0.13.0\n"
     ]
    }
   ],
   "source": [
    "!pip install xmltodict"
   ]
  },
  {
   "cell_type": "code",
   "execution_count": 2,
   "id": "153120b7",
   "metadata": {},
   "outputs": [],
   "source": [
    "import pandas as pd\n",
    "import requests\n",
    "from collections import defaultdict\n",
    "import time\n",
    "import json\n",
    "import xml\n",
    "import xml.etree.ElementTree as ET\n",
    "import xmltodict\n",
    "headers = {}\n",
    "payload = {}"
   ]
  },
  {
   "cell_type": "code",
   "execution_count": 1,
   "id": "ce0aedd0",
   "metadata": {},
   "outputs": [
    {
     "ename": "NameError",
     "evalue": "name 'pd' is not defined",
     "output_type": "error",
     "traceback": [
      "\u001b[1;31m---------------------------------------------------------------------------\u001b[0m",
      "\u001b[1;31mNameError\u001b[0m                                 Traceback (most recent call last)",
      "\u001b[1;32m~\\AppData\\Local\\Temp\\ipykernel_10468\\291722131.py\u001b[0m in \u001b[0;36m<module>\u001b[1;34m\u001b[0m\n\u001b[0;32m      2\u001b[0m     \u001b[1;32mreturn\u001b[0m \u001b[1;33m-\u001b[0m\u001b[1;36m1\u001b[0m\u001b[1;33m\u001b[0m\u001b[1;33m\u001b[0m\u001b[0m\n\u001b[0;32m      3\u001b[0m \u001b[1;33m\u001b[0m\u001b[0m\n\u001b[1;32m----> 4\u001b[1;33m \u001b[0mdf\u001b[0m \u001b[1;33m=\u001b[0m \u001b[0mpd\u001b[0m\u001b[1;33m.\u001b[0m\u001b[0mDataFrame\u001b[0m\u001b[1;33m(\u001b[0m\u001b[0mcolumns\u001b[0m\u001b[1;33m=\u001b[0m\u001b[1;33m[\u001b[0m\u001b[1;34m'Name'\u001b[0m\u001b[1;33m,\u001b[0m \u001b[1;34m'Label'\u001b[0m\u001b[1;33m,\u001b[0m \u001b[1;34m'Lat'\u001b[0m\u001b[1;33m,\u001b[0m \u001b[1;34m'Long'\u001b[0m\u001b[1;33m,\u001b[0m \u001b[1;34m'Class'\u001b[0m\u001b[1;33m]\u001b[0m\u001b[1;33m)\u001b[0m\u001b[1;33m\u001b[0m\u001b[1;33m\u001b[0m\u001b[0m\n\u001b[0m\u001b[0;32m      5\u001b[0m \u001b[1;33m\u001b[0m\u001b[0m\n\u001b[0;32m      6\u001b[0m \u001b[1;32mdef\u001b[0m \u001b[0mget_addresses_of_poi\u001b[0m\u001b[1;33m(\u001b[0m\u001b[0mpoi_type\u001b[0m\u001b[1;33m,\u001b[0m \u001b[0mradius\u001b[0m\u001b[1;33m)\u001b[0m\u001b[1;33m:\u001b[0m\u001b[1;33m\u001b[0m\u001b[1;33m\u001b[0m\u001b[0m\n",
      "\u001b[1;31mNameError\u001b[0m: name 'pd' is not defined"
     ]
    }
   ],
   "source": [
    "def default_value():\n",
    "    return -1\n",
    "\n",
    "df = pd.DataFrame(columns=['Name', 'Label', 'Lat', 'Long', 'Class'])\n",
    "\n",
    "def get_addresses_of_poi(poi_type, radius):\n",
    "    result_total = []\n",
    "    for t in poi_type:\n",
    "        params = {'placetype':t}\n",
    "        api_url = 'http://localhost/geoloc/search?'\n",
    "        result = []\n",
    "        seen = defaultdict(default_value)\n",
    "        stack = []\n",
    "        url = api_url\n",
    "        url += 'lat=' + str(47.70704242989272) + '&'\n",
    "        url += 'lng=' + str(-122.2097948701073) + '&'\n",
    "        url += 'radius=' + str(radius) + '&'\n",
    "        for p in params.keys():\n",
    "            url += p + '=' + params[p]\n",
    "        response = requests.request(\"GET\", url, headers=headers, data=payload)\n",
    "        response = xmltodict.parse(response.content)\n",
    "        stack.append([response['results']['result'][0]['name'], response['results']['result'][0]['label'], response['results']['result'][0]['lat'],\n",
    "                    response['results']['result'][0]['lng'], response['results']['result'][0]['placeType']])\n",
    "        while stack:\n",
    "            url = api_url\n",
    "            cur = stack[0]\n",
    "            del stack[0]\n",
    "            if seen[cur[0]] < 0:\n",
    "                if len(result) % 1000 == 0:\n",
    "                    print(len(result))\n",
    "                seen[cur[0]] = 1\n",
    "                result.append(cur)\n",
    "                url += 'lat=' + str(cur[2]) + '&'\n",
    "                url += 'lng=' + str(cur[3]) + '&'\n",
    "                url += 'radius=' + str(radius) + '&'\n",
    "                for p in params.keys():\n",
    "                    url += p + '=' + params[p]\n",
    "                try:\n",
    "                    response = requests.request(\"GET\", url, headers=headers, data=payload)\n",
    "                    response = xmltodict.parse(response.content)\n",
    "                    for r in response['results']['result']:\n",
    "                        try:\n",
    "                            if seen[r['name']] < 0:\n",
    "                                stack.append([r['name'], r['label'], r['lat'], r['lng'], r['placeType']])\n",
    "                        except:\n",
    "                            pass\n",
    "                except:\n",
    "                    pass\n",
    "            if len(result) > 18000:\n",
    "                break\n",
    "                \n",
    "        result_total += result\n",
    "\n",
    "    return result, stack\n",
    "\n",
    "r, s = get_addresses_of_poi(['airport','factory', 'stadium'], 1000000)\n",
    "new_df = pd.DataFrame(r, columns=['Name', 'Label', 'Lat', 'Long', 'Class'])\n",
    "df = pd.concat([df, new_df])\n",
    "df.to_csv('./GeoData.csv')"
   ]
  },
  {
   "cell_type": "code",
   "execution_count": null,
   "id": "31eec04b",
   "metadata": {},
   "outputs": [],
   "source": [
    "df"
   ]
  },
  {
   "cell_type": "code",
   "execution_count": null,
   "id": "248e1adb",
   "metadata": {},
   "outputs": [],
   "source": []
  }
 ],
 "metadata": {
  "kernelspec": {
   "display_name": "Python 3 (ipykernel)",
   "language": "python",
   "name": "python3"
  },
  "language_info": {
   "codemirror_mode": {
    "name": "ipython",
    "version": 3
   },
   "file_extension": ".py",
   "mimetype": "text/x-python",
   "name": "python",
   "nbconvert_exporter": "python",
   "pygments_lexer": "ipython3",
   "version": "3.9.13"
  }
 },
 "nbformat": 4,
 "nbformat_minor": 5
}
